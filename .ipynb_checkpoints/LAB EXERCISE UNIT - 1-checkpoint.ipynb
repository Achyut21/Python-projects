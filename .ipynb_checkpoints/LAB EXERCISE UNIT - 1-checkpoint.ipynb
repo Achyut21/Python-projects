{
 "cells": [
  {
   "cell_type": "code",
   "execution_count": 33,
   "id": "ade9aac3",
   "metadata": {},
   "outputs": [
    {
     "name": "stdout",
     "output_type": "stream",
     "text": [
      "computerscienceengineeringsrmuniversity\n",
      "The Encrypted text is: gsqtyxivwgmirgiirkmriivmrkwvqyrmzivwmxc\n"
     ]
    }
   ],
   "source": [
    "f =open(\"q1.txt\",\"rt\")\n",
    "txt = f.read()\n",
    "print(txt)\n",
    "arr = []\n",
    "arr2 = []\n",
    "for i in txt:\n",
    "    arr.append(i)\n",
    "arr2 = [ord(j) for j in arr]\n",
    "for i in range(len(arr2)):\n",
    "    arr2[i] = arr2[i] + 4\n",
    "    if arr2[i]>122:\n",
    "        arr2[i] = ((arr2[i]%122)+96)\n",
    "arr5 = [chr(i) for i in arr2]\n",
    "entxt = ''.join(map(str, arr5))\n",
    "print(\"The Encrypted text is:\",entxt)"
   ]
  },
  {
   "cell_type": "code",
   "execution_count": 44,
   "id": "79226db4",
   "metadata": {
    "scrolled": false
   },
   "outputs": [
    {
     "name": "stdout",
     "output_type": "stream",
     "text": [
      "PHHWPHDIWHUWKHWRJDSDUWB\n",
      "[80, 72, 72, 87, 80, 72, 68, 73, 87, 72, 85, 87, 75, 72, 87, 82, 74, 68, 83, 68, 85, 87, 66]\n",
      "80\n",
      "79\n",
      "77\n",
      "74\n",
      "70\n",
      "65\n",
      "59\n",
      "52\n",
      "44\n",
      "35\n",
      "25\n",
      "14\n",
      "2\n",
      "-11\n",
      "-25\n",
      "-40\n",
      "-56\n",
      "-73\n",
      "-91\n",
      "-110\n",
      "-130\n",
      "-151\n",
      "-173\n"
     ]
    },
    {
     "ename": "ValueError",
     "evalue": "chr() arg not in range(0x110000)",
     "output_type": "error",
     "traceback": [
      "\u001b[1;31m---------------------------------------------------------------------------\u001b[0m",
      "\u001b[1;31mValueError\u001b[0m                                Traceback (most recent call last)",
      "\u001b[1;32m<ipython-input-44-585858fe8edf>\u001b[0m in \u001b[0;36m<module>\u001b[1;34m\u001b[0m\n\u001b[0;32m     11\u001b[0m         \u001b[0marr2\u001b[0m\u001b[1;33m[\u001b[0m\u001b[0mi\u001b[0m\u001b[1;33m]\u001b[0m \u001b[1;33m=\u001b[0m \u001b[0marr2\u001b[0m\u001b[1;33m[\u001b[0m\u001b[0mi\u001b[0m\u001b[1;33m]\u001b[0m \u001b[1;33m-\u001b[0m \u001b[0mj\u001b[0m\u001b[1;33m\u001b[0m\u001b[1;33m\u001b[0m\u001b[0m\n\u001b[0;32m     12\u001b[0m         \u001b[0mprint\u001b[0m\u001b[1;33m(\u001b[0m\u001b[0marr2\u001b[0m\u001b[1;33m[\u001b[0m\u001b[0mi\u001b[0m\u001b[1;33m]\u001b[0m\u001b[1;33m)\u001b[0m\u001b[1;33m\u001b[0m\u001b[1;33m\u001b[0m\u001b[0m\n\u001b[1;32m---> 13\u001b[1;33m     \u001b[0marr5\u001b[0m \u001b[1;33m=\u001b[0m \u001b[1;33m[\u001b[0m\u001b[0mchr\u001b[0m\u001b[1;33m(\u001b[0m\u001b[0mi\u001b[0m\u001b[1;33m)\u001b[0m \u001b[1;32mfor\u001b[0m \u001b[0mi\u001b[0m \u001b[1;32min\u001b[0m \u001b[0marr2\u001b[0m\u001b[1;33m]\u001b[0m\u001b[1;33m\u001b[0m\u001b[1;33m\u001b[0m\u001b[0m\n\u001b[0m\u001b[0;32m     14\u001b[0m     \u001b[0mentxt\u001b[0m \u001b[1;33m=\u001b[0m \u001b[1;34m''\u001b[0m\u001b[1;33m.\u001b[0m\u001b[0mjoin\u001b[0m\u001b[1;33m(\u001b[0m\u001b[0mmap\u001b[0m\u001b[1;33m(\u001b[0m\u001b[0mstr\u001b[0m\u001b[1;33m,\u001b[0m \u001b[0marr5\u001b[0m\u001b[1;33m)\u001b[0m\u001b[1;33m)\u001b[0m\u001b[1;33m\u001b[0m\u001b[1;33m\u001b[0m\u001b[0m\n\u001b[0;32m     15\u001b[0m     \u001b[0mprint\u001b[0m\u001b[1;33m(\u001b[0m\u001b[1;34m\"The Encrypted text is:\"\u001b[0m\u001b[1;33m,\u001b[0m\u001b[0mentxt\u001b[0m\u001b[1;33m)\u001b[0m\u001b[1;33m\u001b[0m\u001b[1;33m\u001b[0m\u001b[0m\n",
      "\u001b[1;32m<ipython-input-44-585858fe8edf>\u001b[0m in \u001b[0;36m<listcomp>\u001b[1;34m(.0)\u001b[0m\n\u001b[0;32m     11\u001b[0m         \u001b[0marr2\u001b[0m\u001b[1;33m[\u001b[0m\u001b[0mi\u001b[0m\u001b[1;33m]\u001b[0m \u001b[1;33m=\u001b[0m \u001b[0marr2\u001b[0m\u001b[1;33m[\u001b[0m\u001b[0mi\u001b[0m\u001b[1;33m]\u001b[0m \u001b[1;33m-\u001b[0m \u001b[0mj\u001b[0m\u001b[1;33m\u001b[0m\u001b[1;33m\u001b[0m\u001b[0m\n\u001b[0;32m     12\u001b[0m         \u001b[0mprint\u001b[0m\u001b[1;33m(\u001b[0m\u001b[0marr2\u001b[0m\u001b[1;33m[\u001b[0m\u001b[0mi\u001b[0m\u001b[1;33m]\u001b[0m\u001b[1;33m)\u001b[0m\u001b[1;33m\u001b[0m\u001b[1;33m\u001b[0m\u001b[0m\n\u001b[1;32m---> 13\u001b[1;33m     \u001b[0marr5\u001b[0m \u001b[1;33m=\u001b[0m \u001b[1;33m[\u001b[0m\u001b[0mchr\u001b[0m\u001b[1;33m(\u001b[0m\u001b[0mi\u001b[0m\u001b[1;33m)\u001b[0m \u001b[1;32mfor\u001b[0m \u001b[0mi\u001b[0m \u001b[1;32min\u001b[0m \u001b[0marr2\u001b[0m\u001b[1;33m]\u001b[0m\u001b[1;33m\u001b[0m\u001b[1;33m\u001b[0m\u001b[0m\n\u001b[0m\u001b[0;32m     14\u001b[0m     \u001b[0mentxt\u001b[0m \u001b[1;33m=\u001b[0m \u001b[1;34m''\u001b[0m\u001b[1;33m.\u001b[0m\u001b[0mjoin\u001b[0m\u001b[1;33m(\u001b[0m\u001b[0mmap\u001b[0m\u001b[1;33m(\u001b[0m\u001b[0mstr\u001b[0m\u001b[1;33m,\u001b[0m \u001b[0marr5\u001b[0m\u001b[1;33m)\u001b[0m\u001b[1;33m)\u001b[0m\u001b[1;33m\u001b[0m\u001b[1;33m\u001b[0m\u001b[0m\n\u001b[0;32m     15\u001b[0m     \u001b[0mprint\u001b[0m\u001b[1;33m(\u001b[0m\u001b[1;34m\"The Encrypted text is:\"\u001b[0m\u001b[1;33m,\u001b[0m\u001b[0mentxt\u001b[0m\u001b[1;33m)\u001b[0m\u001b[1;33m\u001b[0m\u001b[1;33m\u001b[0m\u001b[0m\n",
      "\u001b[1;31mValueError\u001b[0m: chr() arg not in range(0x110000)"
     ]
    }
   ],
   "source": [
    "txt= \"PHHWPHDIWHUWKHWRJDSDUWB\"\n",
    "print(txt)\n",
    "arr = []\n",
    "arr2 = []\n",
    "for i in txt:\n",
    "    arr.append(i)\n",
    "arr2 = [ord(j) for j in arr]\n",
    "print(arr2)\n",
    "for i in range(len(arr2)):\n",
    "    for j in range(len(arr2)):\n",
    "        arr2[i] = arr2[i] - j\n",
    "        print(arr2[i])\n",
    "    arr5 = [chr(i) for i in arr2]\n",
    "    entxt = ''.join(map(str, arr5))\n",
    "    print(\"The Encrypted text is:\",entxt)\n",
    "  #  if arr2[i]<122:\n",
    " #       arr2[i] = ((arr2[i]%122)-96)\n",
    "arr5 = [chr(i) for i in arr2]\n",
    "entxt = ''.join(map(str, arr5))\n",
    "print(\"The Encrypted text is:\",entxt)"
   ]
  },
  {
   "cell_type": "code",
   "execution_count": null,
   "id": "9efd33f9",
   "metadata": {},
   "outputs": [],
   "source": []
  }
 ],
 "metadata": {
  "kernelspec": {
   "display_name": "Python 3",
   "language": "python",
   "name": "python3"
  },
  "language_info": {
   "codemirror_mode": {
    "name": "ipython",
    "version": 3
   },
   "file_extension": ".py",
   "mimetype": "text/x-python",
   "name": "python",
   "nbconvert_exporter": "python",
   "pygments_lexer": "ipython3",
   "version": "3.8.8"
  }
 },
 "nbformat": 4,
 "nbformat_minor": 5
}
