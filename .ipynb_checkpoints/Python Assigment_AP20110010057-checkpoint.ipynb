{
 "cells": [
  {
   "cell_type": "code",
   "execution_count": 26,
   "id": "2934e4c9",
   "metadata": {
    "scrolled": true
   },
   "outputs": [
    {
     "name": "stdout",
     "output_type": "stream",
     "text": [
      "Enter list of numbers: 1 2 2\n",
      "Enter list of numbers: 4 5 5\n",
      "The new list1 is [1, 2]\n",
      "The new list1 is [1, 2]\n"
     ]
    }
   ],
   "source": [
    "#1. Read two lists containing numbers from 1 to 20, List1 and List2 from the key board and\n",
    "#do the following:\n",
    "#(a) Remove the item(s), occurring twice or more in a List1 and List2.\n",
    "\n",
    "def unique(list3):\n",
    "    list4=[]\n",
    "    for i in list3:\n",
    "        if i not in list4:\n",
    "             list4.append(i)\n",
    "    return list4\n",
    "\n",
    "list1=[int(num) for num in input(\"Enter numbers of list 1: \").split()]\n",
    "list2=[int(num) for num in input(\"Enter numbers of list 2: \").split()]\n",
    "print(f\"The new list1 is :{unique(list1)}\")\n",
    "print(f\"The new list1 is :{unique(list2)}\")\n"
   ]
  },
  {
   "cell_type": "code",
   "execution_count": 35,
   "id": "1add7b5c",
   "metadata": {},
   "outputs": [
    {
     "name": "stdout",
     "output_type": "stream",
     "text": [
      "Enter numbers of list 1: 1 2 2\n",
      "Enter numbers of list 2: 5 6 6\n",
      "1 union 2 is:[1, 2, 5, 6]\n"
     ]
    }
   ],
   "source": [
    "#(b) Generate a new list List1U2 containing the union of List1 and List2.\n",
    "def unique(list3):\n",
    "    list4=[]\n",
    "    for i in list3:\n",
    "        if i not in list4:\n",
    "             list4.append(i)\n",
    "    return list4\n",
    "\n",
    "def union(list5,list6):\n",
    "    list5.extend(list6)\n",
    "    return list5\n",
    "\n",
    "list1=[int(num) for num in input(\"Enter numbers of list 1: \").split()]\n",
    "list2=[int(num) for num in input(\"Enter numbers of list 2: \").split()]\n",
    "print(f\"1 union 2 is:{union(unique(list1),unique(list2))}\")"
   ]
  },
  {
   "cell_type": "markdown",
   "id": "037f2537",
   "metadata": {},
   "source": []
  },
  {
   "cell_type": "code",
   "execution_count": 15,
   "id": "90641728",
   "metadata": {},
   "outputs": [
    {
     "name": "stdout",
     "output_type": "stream",
     "text": [
      "Enter numbers of list 1: 1 2 3 4 5\n",
      "Enter numbers of list 2: 3 4 5 6 7\n",
      "1 intersection 2 is:[3, 4, 5]\n"
     ]
    }
   ],
   "source": [
    "#(c) Generate a new list List1I2 containing the intersection of List1 and List2.\n",
    "def Intersection(list1,list2):\n",
    "    lst3 = [value for value in list1 if value in list2]\n",
    "    return lst3\n",
    "\n",
    "list1=[int(num) for num in input(\"Enter numbers of list 1: \").split()]\n",
    "list2=[int(num) for num in input(\"Enter numbers of list 2: \").split()]\n",
    "print(f\"1 intersection 2 is:{Intersection(list1,list2)}\")"
   ]
  },
  {
   "cell_type": "code",
   "execution_count": 29,
   "id": "c3f334b6",
   "metadata": {},
   "outputs": [
    {
     "name": "stdout",
     "output_type": "stream",
     "text": [
      "Enter numbers of list 1: 1 2 3 4 5\n",
      "Enter numbers of list 2: 4 5 6 7 8\n",
      "list1 - list2 is:[1, 2, 3]\n"
     ]
    }
   ],
   "source": [
    "#(d) Generate a new list List1D2 containing the set theoretic difference List1 - List2.\n",
    "def unique(list1,list2):\n",
    "    lst3 = []\n",
    "    for i in list1:\n",
    "        if i in list2:\n",
    "            continue\n",
    "        else:lst3.append(i)\n",
    "    return lst3\n",
    "\n",
    "list1=[int(num) for num in input(\"Enter numbers of list 1: \").split()]\n",
    "list2=[int(num) for num in input(\"Enter numbers of list 2: \").split()]\n",
    "print(f\"list1 - list2 is:{unique(list1,list2)}\")"
   ]
  },
  {
   "cell_type": "code",
   "execution_count": 28,
   "id": "7ff03f97",
   "metadata": {},
   "outputs": [
    {
     "name": "stdout",
     "output_type": "stream",
     "text": [
      "Enter numbers of list 1: 1 2 3 4 5\n",
      "Enter numbers of list 2: 4 5 6 7 8\n",
      "list2 - list1 is:[6, 7, 8]\n"
     ]
    }
   ],
   "source": [
    "#(e) Generate a new list List2D1 containing the set theoretic difference List2 - List1.\n",
    "def unique(list1,list2):\n",
    "    lst3 = []\n",
    "    for i in list1:\n",
    "        if i in list2:\n",
    "            continue\n",
    "        else:lst3.append(i)\n",
    "    return lst3\n",
    "\n",
    "list1=[int(num) for num in input(\"Enter numbers of list 1: \").split()]\n",
    "list2=[int(num) for num in input(\"Enter numbers of list 2: \").split()]\n",
    "print(f\"list2 - list1 is:{unique(list2,list1)}\")"
   ]
  },
  {
   "cell_type": "code",
   "execution_count": 13,
   "id": "0110bfe1",
   "metadata": {},
   "outputs": [
    {
     "name": "stdout",
     "output_type": "stream",
     "text": [
      "Enter numbers of list 1: 1 2 3 4 5\n",
      "Enter numbers of list 2: 3 4 5 6 7\n",
      "the complement of List1U2.:[1, 2]\n"
     ]
    }
   ],
   "source": [
    "#(f) Generate a new list List1U2C containing the complement of List1U2.\n",
    "def unique(list3):\n",
    "    list4=[]\n",
    "    for i in list3:\n",
    "        if i not in list4:\n",
    "             list4.append(i)\n",
    "    return list4\n",
    "\n",
    "def union(list5,list6):\n",
    "    list5.extend(list6)\n",
    "    return list5\n",
    "\n",
    "def comp(list1, list2):\n",
    "    storeResults = []\n",
    "    for num in list1:\n",
    "        if num not in list2: \n",
    "            storeResults.append(num)\n",
    "    return storeResults\n",
    "                \n",
    "    \n",
    "\n",
    "list1=[int(num) for num in input(\"Enter numbers of list 1: \").split()]\n",
    "list2=[int(num) for num in input(\"Enter numbers of list 2: \").split()]\n",
    "list3=union(unique(list1),unique(list2))\n",
    "print(f\"the complement of List1U2:{comp(list3,unique(list2))}\")"
   ]
  },
  {
   "cell_type": "code",
   "execution_count": 16,
   "id": "ee675c24",
   "metadata": {},
   "outputs": [
    {
     "name": "stdout",
     "output_type": "stream",
     "text": [
      "Enter numbers of list 1: 1 2 3 4 5\n",
      "Enter numbers of list 2: 6 7 8 9 10\n",
      "the complement of List:[]\n"
     ]
    }
   ],
   "source": [
    "#(g) Generate a new list List1I2C containing the complement of List1I2.\n",
    "def unique(list3):\n",
    "    list4=[]\n",
    "    for i in list3:\n",
    "        if i not in list4:\n",
    "             list4.append(i)\n",
    "    return list4\n",
    "def Intersection(list1,list2):\n",
    "    lst3 = [value for value in list1 if value in list2]\n",
    "    return lst3\n",
    "\n",
    "def comp(list1, list2):\n",
    "    storeResults = []\n",
    "    for num in list1:\n",
    "        if num not in list2: \n",
    "            storeResults.append(num)\n",
    "    return storeResults\n",
    "                \n",
    "    \n",
    "\n",
    "list1=[int(num) for num in input(\"Enter numbers of list 1: \").split()]\n",
    "list2=[int(num) for num in input(\"Enter numbers of list 2: \").split()]\n",
    "list3=Intersection(unique(list1),unique(list2))\n",
    "print(f\"the complement of List:{comp(list3,unique(list2))}\")"
   ]
  },
  {
   "cell_type": "code",
   "execution_count": 24,
   "id": "99ed223a",
   "metadata": {},
   "outputs": [
    {
     "name": "stdout",
     "output_type": "stream",
     "text": [
      "Enter string to list: x xy xyz xyza\n",
      "xyza\n"
     ]
    }
   ],
   "source": [
    "#2. Read a lists named StringList containing strings from the key board and perform the following tasks:\n",
    "#(a) Find the length of the words with largest length without using len() function.\n",
    "def Length(list1):\n",
    "    count = 0\n",
    "    list2=[]\n",
    "    for i in list1:\n",
    "        for j in i:\n",
    "            count+= 1\n",
    "        list2.append(count)\n",
    "        count=0\n",
    "    return list2\n",
    "\n",
    "\n",
    "list1=[num for num in input(\"Enter string to list: \").split()]\n",
    "print(list1[Length(list1).index(max(Length(list1)))])"
   ]
  },
  {
   "cell_type": "code",
   "execution_count": 25,
   "id": "f9294ba9",
   "metadata": {},
   "outputs": [
    {
     "name": "stdout",
     "output_type": "stream",
     "text": [
      "Enter string to list: x xy xyz xyza\n",
      "3\n"
     ]
    }
   ],
   "source": [
    "#(b) Find the index/indices of the word(s) with largest length.\n",
    "def Length(list1):\n",
    "    count = 0\n",
    "    list2=[]\n",
    "    for i in list1:\n",
    "        for j in i:\n",
    "            count+= 1\n",
    "        list2.append(count)\n",
    "        count=0\n",
    "    return list2\n",
    "\n",
    "\n",
    "list1=[num for num in input(\"Enter string to list: \").split()]\n",
    "print(Length(list1).index(max(Length(list1))))"
   ]
  },
  {
   "cell_type": "code",
   "execution_count": 27,
   "id": "32fa6dc4",
   "metadata": {},
   "outputs": [
    {
     "name": "stdout",
     "output_type": "stream",
     "text": [
      "Enter string to list: x xy xyz xyza\n",
      "4\n"
     ]
    }
   ],
   "source": [
    "#(c) Find the word(s) with largest length.\n",
    "def Length(list1):\n",
    "    count = 0\n",
    "    list2=[]\n",
    "    for i in list1:\n",
    "        for j in i:\n",
    "            count+= 1\n",
    "        list2.append(count)\n",
    "        count=0\n",
    "    return list2\n",
    "\n",
    "\n",
    "list1=[num for num in input(\"Enter string to list: \").split()]\n",
    "print(max(Length(list1)))"
   ]
  },
  {
   "cell_type": "code",
   "execution_count": 33,
   "id": "e40f1d16",
   "metadata": {},
   "outputs": [
    {
     "name": "stdout",
     "output_type": "stream",
     "text": [
      "Enter strings: Enter strings: #Read a lists named StringList1 containing strings from the key board. Generate a string MStringList1 that contains all  #items of StringList1 that are repeated twice or more number of times and print this list. By observing the outcome of  #MStringList1 perform the following tasks #(a) Check wather an item of MStringList1 occurs even number of times or odd number of times in StringList1\n",
      "{'Enter': 1, 'strings:': 1, '#Read': 1, 'a': 2, 'lists': 1, 'named': 1, 'StringList1': 3, 'containing': 1, 'strings': 1, 'from': 1, 'the': 3, 'key': 1, 'board.': 1, 'Generate': 1, 'string': 1, 'MStringList1': 2, 'that': 2, 'contains': 1, 'all': 1, '#items': 1, 'of': 6, 'are': 1, 'repeated': 1, 'twice': 1, 'or': 2, 'more': 1, 'number': 3, 'times': 3, 'and': 1, 'print': 1, 'this': 1, 'list.': 1, 'By': 1, 'observing': 1, 'outcome': 1, '#MStringList1': 1, 'perform': 1, 'following': 1, 'tasks': 1, '#(a)': 1, 'Check': 1, 'wather': 1, 'an': 1, 'item': 1, 'occurs': 1, 'even': 1, 'odd': 1, 'in': 1}\n",
      "[('a', 2), ('StringList1', 3), ('the', 3), ('MStringList1', 2), ('that', 2), ('of', 6), ('or', 2), ('number', 3), ('times', 3)]\n",
      "['even', 'odd', 'odd', 'even', 'even', 'even', 'even', 'odd', 'odd']\n"
     ]
    }
   ],
   "source": [
    "#Read a lists named StringList1 containing strings from the key board. Generate a string MStringList1 that contains all \n",
    "#items of StringList1 that are repeated twice or more number of times and print this list. By observing the outcome of \n",
    "#MStringList1 perform the following tasks\n",
    "#(a) Check wather an item of MStringList1 occurs even number of times or odd number of times in StringList1.\n",
    "def CountFrequency(my_list):\n",
    "    freq = {}\n",
    "    for items in my_list:\n",
    "        freq[items] = my_list.count(items)\n",
    "    return freq\n",
    "\n",
    "def oddEven(list1):\n",
    "    lst2=[]\n",
    "    for num in list1:\n",
    "        if num[1]%2==0:\n",
    "            lst2.append(\"even\")\n",
    "        else:\n",
    "            lst2.append(\"odd\")\n",
    "    return lst2\n",
    "    \n",
    "            \n",
    "StringList1=[num for num in input(\"Enter strings: \").split()]\n",
    "N=CountFrequency(StringList1)\n",
    "print(N)\n",
    "MStringList1=[]\n",
    "for key,value in N.items():\n",
    "    if value!=1:\n",
    "        MStringList1.append((key,value))       \n",
    "print(MStringList1)\n",
    "M=oddEven(MStringList1)\n",
    "print(M)\n",
    "    \n"
   ]
  },
  {
   "cell_type": "code",
   "execution_count": 35,
   "id": "81c289fc",
   "metadata": {},
   "outputs": [
    {
     "name": "stdout",
     "output_type": "stream",
     "text": [
      "Enter strings: I I am am the for is am\n",
      "['I', 'am', 'the', 'for', 'is']\n"
     ]
    }
   ],
   "source": [
    "#(b)Remove the ith (i ≥ 2) occurrence of a given word in a StringList1.\n",
    "def unique(list3):\n",
    "    list4=[]\n",
    "    for i in list3:\n",
    "        if i not in list4:\n",
    "             list4.append(i)\n",
    "    return list4\n",
    "\n",
    "StringList1=[num for num in input(\"Enter strings: \").split()]\n",
    "print(unique(StringList1))"
   ]
  },
  {
   "cell_type": "code",
   "execution_count": 5,
   "id": "abe1228c",
   "metadata": {},
   "outputs": [
    {
     "name": "stdout",
     "output_type": "stream",
     "text": [
      "Enter numbers of list 1: 2 3 3 4 5 1 1 2 2\n",
      "The list after removing duplicates : [2, 3, 4, 5, 1]\n"
     ]
    }
   ],
   "source": [
    "#4. Read IntList, a list of integers (not necessarily sorted or having non repeated entries).\n",
    "#(a) Modify IntList by removing the item(s), occurring twice or more in a List.\n",
    "\n",
    "IntList=[int(num) for num in input(\"Enter numbers of list 1: \").split()]\n",
    "res = []\n",
    "for i in IntList:\n",
    "    if i not in res:\n",
    "        res.append(i)\n",
    "print (\"The list after removing duplicates : \" + str(res))\n"
   ]
  },
  {
   "cell_type": "code",
   "execution_count": null,
   "id": "e1066c99",
   "metadata": {},
   "outputs": [],
   "source": [
    "#(b) Find the smallest number in IntList.\n",
    "def bubble_sort(list1):\n",
    "    for i in range(0,len(list1)-1):\n",
    "        for j in range(len(list1)-1):\n",
    "            if(list1[j]>list1[j+1]):\n",
    "                temp = list1[j]\n",
    "                list1[j] = list1[j+1]\n",
    "                list1[j+1] = temp\n",
    "    return list1\n",
    "\n",
    "IntList=[int(num) for num in input(\"Enter numbers to list: \").split()]\n",
    "lst2=bubble_sort(IntList)\n",
    "print(f\"Shortert element in the list is: {lst2[0]}\")"
   ]
  },
  {
   "cell_type": "code",
   "execution_count": 8,
   "id": "73348331",
   "metadata": {},
   "outputs": [
    {
     "name": "stdout",
     "output_type": "stream",
     "text": [
      "Enter numbers to list: 4 5 9 83 2 3\n",
      "Shortert element in the list is: 3\n"
     ]
    }
   ],
   "source": [
    "#(c) Find the second smallest number in IntList.\n",
    "def bubble_sort(list1):\n",
    "    for i in range(0,len(list1)-1):\n",
    "        for j in range(len(list1)-1):\n",
    "            if(list1[j]>list1[j+1]):\n",
    "                temp = list1[j]\n",
    "                list1[j] = list1[j+1]\n",
    "                list1[j+1] = temp\n",
    "    return list1\n",
    "\n",
    "IntListt=[int(num) for num in input(\"Enter numbers to list: \").split()]\n",
    "lst2=bubble_sort(IntList)\n",
    "print(f\"Shortert element in the list is: {lst2[1]}\")\n"
   ]
  },
  {
   "cell_type": "code",
   "execution_count": 9,
   "id": "871881a7",
   "metadata": {},
   "outputs": [
    {
     "name": "stdout",
     "output_type": "stream",
     "text": [
      "Enter numbers to list: 5 1 2 3 4 5 4\n",
      "[4, 1, 2, 3, 4, 5, 5]\n"
     ]
    }
   ],
   "source": [
    "#(d) Swap the first and last items of IntList.\n",
    "IntList=[int(num) for num in input(\"Enter numbers to list: \").split()]\n",
    "N = IntList[0]\n",
    "IntList[0] = IntList[-1]\n",
    "IntList[-1] = N\n",
    "print(IntList)"
   ]
  },
  {
   "cell_type": "code",
   "execution_count": 12,
   "id": "8b570132",
   "metadata": {},
   "outputs": [
    {
     "name": "stdout",
     "output_type": "stream",
     "text": [
      "Enter numbers to list: 1 2 3 5 6 7 8\n",
      "Even list: [2, 6, 8]\n",
      "Odd list: [1, 3, 5, 7]\n"
     ]
    }
   ],
   "source": [
    "#(e) Generate two lists named EvenIntList and OddIntList from IntList, containing even and odd integers respectively.\n",
    "IntList=[int(num) for num in input(\"Enter numbers to list: \").split()]\n",
    "EvenIntList = [num for num in IntList if num % 2 == 0]\n",
    "OddIntList = [num for num in IntList if num % 2 != 0]\n",
    "print(f\"Even list: {EvenIntList}\")\n",
    "print(f\"Odd list: {OddIntList}\")"
   ]
  },
  {
   "cell_type": "code",
   "execution_count": 20,
   "id": "ce4d0fdb",
   "metadata": {},
   "outputs": [
    {
     "name": "stdout",
     "output_type": "stream",
     "text": [
      "Enter numbers to list: 21 2 3 445 5 5\n",
      "Even sorted list is:[2]\n",
      "Even sorted list is:[3, 5, 5, 21, 445]\n"
     ]
    }
   ],
   "source": [
    "#(f) Generate sort OddIntList and EvenIntList with out using sort method or sorted function.\n",
    "def bubble_sort(list1):\n",
    "    for i in range(0,len(list1)-1):\n",
    "        for j in range(len(list1)-1):\n",
    "            if(list1[j]>list1[j+1]):\n",
    "                temp = list1[j]\n",
    "                list1[j] = list1[j+1]\n",
    "                list1[j+1] = temp\n",
    "    return list1\n",
    "\n",
    "IntList=[int(num) for num in input(\"Enter numbers to list: \").split()]\n",
    "EvenIntList = [num for num in IntList if num % 2 == 0]\n",
    "OddIntList = [num for num in IntList if num % 2 != 0]\n",
    "print(f\"Even sorted list is:{bubble_sort(EvenIntList)}\")\n",
    "print(f\"Even sorted list is:{bubble_sort(OddIntList)}\")\n"
   ]
  },
  {
   "cell_type": "code",
   "execution_count": 22,
   "id": "635b4bff",
   "metadata": {},
   "outputs": [
    {
     "name": "stdout",
     "output_type": "stream",
     "text": [
      "Enter numbers to list: 1 2 2 5 5 6 6 7 7 7\n",
      "Even sorted list is:[2, 6]\n",
      "Even sorted list is:[1, 5, 7]\n"
     ]
    }
   ],
   "source": [
    "#(g) Generate a list SortedIntlisted by taking item from OddIntList and EvenIntList in such a way that, \n",
    "#SortedIntlisted is exactly the sorted list obtained after removing the repeated items form IntList.\n",
    "def bubble_sort(list1):\n",
    "    for i in range(0,len(list1)-1):\n",
    "        for j in range(len(list1)-1):\n",
    "            if(list1[j]>list1[j+1]):\n",
    "                temp = list1[j]\n",
    "                list1[j] = list1[j+1]\n",
    "                list1[j+1] = temp\n",
    "    return list1\n",
    "\n",
    "def sort_list(IntList):\n",
    "        res=[]\n",
    "        for i in IntList:\n",
    "            if i not in res:\n",
    "                res.append(i)\n",
    "        return res\n",
    "\n",
    "IntList=[int(num) for num in input(\"Enter numbers to list: \").split()]\n",
    "EvenIntList = [num for num in IntList if num % 2 == 0]\n",
    "OddIntList = [num for num in IntList if num % 2 != 0]\n",
    "print(f\"Even sorted list is:{bubble_sort(sort_list(EvenIntList))}\")\n",
    "print(f\"Even sorted list is:{bubble_sort(sort_list(OddIntList))}\")"
   ]
  },
  {
   "cell_type": "code",
   "execution_count": null,
   "id": "a210f187",
   "metadata": {},
   "outputs": [],
   "source": [
    "#5.Python Program to find all Numbers in a Range which are Perfect Squares and Sum of all\n",
    "Digits in the Number is Less than 10.\n",
    "l=int(input(\"Enter lower range: \"))\n",
    "u=int(input(\"Enter upper range: \"))\n",
    "a=[]\n",
    "a=[x for x in range(l,u+1) if (int(x**0.5))**2==x and sum(list(map(int,str(x))))<10]\n",
    "print(a)"
   ]
  },
  {
   "cell_type": "code",
   "execution_count": 31,
   "id": "731ccfaa",
   "metadata": {},
   "outputs": [
    {
     "name": "stdout",
     "output_type": "stream",
     "text": [
      "Enter numbers of list 1: 10 20 30 40 60\n",
      "Result: [10, 30, 60, 100, 160]\n"
     ]
    }
   ],
   "source": [
    "#6. Python Program to find the Cumulative Sum of a List where the ith Element is the Sum of the\n",
    "#First (i + 1) Elements From The Original List.\n",
    "list1=[int(num) for num in input(\"Enter numbers of list 1: \").split()]\n",
    "list2=[]\n",
    "j=0\n",
    "for i in range(0,len(list1)):\n",
    "    j+=list1[i]\n",
    "    list2.append(j)\n",
    "print(f\"Result:{list2}\")"
   ]
  },
  {
   "cell_type": "code",
   "execution_count": null,
   "id": "fa2f3e58",
   "metadata": {},
   "outputs": [],
   "source": [
    "#7. Python Program to sort the list according to the second Element in Sublist\n",
    "lis = [[1,5,7],[3,1,9],[2,6,8]]\n",
    "sorted(lis, key=lambda x: x[1])"
   ]
  },
  {
   "cell_type": "code",
   "execution_count": 46,
   "id": "8279b84c",
   "metadata": {},
   "outputs": [
    {
     "name": "stdout",
     "output_type": "stream",
     "text": [
      "Enter the list items : apex legends is fast paced shooter game\n",
      "['is', 'apex', 'fact', 'pased', 'legends', 'shooter']\n"
     ]
    }
   ],
   "source": [
    "#8. Python Program to sort a list according to the length of the Elements\n",
    "lst1 = [item for item in input(\"Enter the list items : \").split()]\n",
    "list1.sort(key=len)\n",
    "print(list1)"
   ]
  },
  {
   "cell_type": "code",
   "execution_count": null,
   "id": "329c9d5c",
   "metadata": {},
   "outputs": [],
   "source": []
  }
 ],
 "metadata": {
  "kernelspec": {
   "display_name": "Python 3",
   "language": "python",
   "name": "python3"
  },
  "language_info": {
   "codemirror_mode": {
    "name": "ipython",
    "version": 3
   },
   "file_extension": ".py",
   "mimetype": "text/x-python",
   "name": "python",
   "nbconvert_exporter": "python",
   "pygments_lexer": "ipython3",
   "version": "3.8.8"
  }
 },
 "nbformat": 4,
 "nbformat_minor": 5
}
