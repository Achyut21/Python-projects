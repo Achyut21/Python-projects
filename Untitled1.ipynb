{
 "cells": [
  {
   "cell_type": "code",
   "execution_count": 16,
   "id": "cc794056",
   "metadata": {},
   "outputs": [
    {
     "name": "stdout",
     "output_type": "stream",
     "text": [
      "Enter list of numbers: 1 3 5 7 1\n",
      "[1, 3, 5, 7, 1]\n"
     ]
    },
    {
     "ename": "TypeError",
     "evalue": "int() argument must be a string, a bytes-like object or a number, not 'map'",
     "output_type": "error",
     "traceback": [
      "\u001b[1;31m---------------------------------------------------------------------------\u001b[0m",
      "\u001b[1;31mTypeError\u001b[0m                                 Traceback (most recent call last)",
      "\u001b[1;32m<ipython-input-16-8a1b47e09537>\u001b[0m in \u001b[0;36m<module>\u001b[1;34m\u001b[0m\n\u001b[0;32m      5\u001b[0m \u001b[0mlist\u001b[0m \u001b[1;33m=\u001b[0m \u001b[1;33m[\u001b[0m\u001b[0mint\u001b[0m\u001b[1;33m(\u001b[0m\u001b[0mnum\u001b[0m\u001b[1;33m)\u001b[0m \u001b[1;32mfor\u001b[0m \u001b[0mnum\u001b[0m \u001b[1;32min\u001b[0m \u001b[0minput\u001b[0m\u001b[1;33m(\u001b[0m\u001b[1;34m\"Enter list of numbers: \"\u001b[0m\u001b[1;33m)\u001b[0m\u001b[1;33m.\u001b[0m\u001b[0msplit\u001b[0m\u001b[1;33m(\u001b[0m\u001b[1;33m)\u001b[0m\u001b[1;33m]\u001b[0m\u001b[1;33m\u001b[0m\u001b[1;33m\u001b[0m\u001b[0m\n\u001b[0;32m      6\u001b[0m \u001b[0mprint\u001b[0m\u001b[1;33m(\u001b[0m\u001b[0mlist\u001b[0m\u001b[1;33m)\u001b[0m\u001b[1;33m\u001b[0m\u001b[1;33m\u001b[0m\u001b[0m\n\u001b[1;32m----> 7\u001b[1;33m \u001b[0mprint\u001b[0m\u001b[1;33m(\u001b[0m\u001b[0mlistToString\u001b[0m\u001b[1;33m(\u001b[0m\u001b[0mlist\u001b[0m\u001b[1;33m)\u001b[0m\u001b[1;33m)\u001b[0m\u001b[1;33m\u001b[0m\u001b[1;33m\u001b[0m\u001b[0m\n\u001b[0m",
      "\u001b[1;32m<ipython-input-16-8a1b47e09537>\u001b[0m in \u001b[0;36mlistToString\u001b[1;34m(list)\u001b[0m\n\u001b[0;32m      1\u001b[0m \u001b[1;32mdef\u001b[0m \u001b[0mlistToString\u001b[0m\u001b[1;33m(\u001b[0m\u001b[0mlist\u001b[0m\u001b[1;33m)\u001b[0m\u001b[1;33m:\u001b[0m\u001b[1;33m\u001b[0m\u001b[1;33m\u001b[0m\u001b[0m\n\u001b[1;32m----> 2\u001b[1;33m     \u001b[0mres\u001b[0m \u001b[1;33m=\u001b[0m \u001b[0mint\u001b[0m\u001b[1;33m(\u001b[0m\u001b[0mmap\u001b[0m\u001b[1;33m(\u001b[0m\u001b[0mstr\u001b[0m\u001b[1;33m,\u001b[0m \u001b[0mlist\u001b[0m\u001b[1;33m)\u001b[0m\u001b[1;33m)\u001b[0m\u001b[1;33m\u001b[0m\u001b[1;33m\u001b[0m\u001b[0m\n\u001b[0m\u001b[0;32m      3\u001b[0m     \u001b[1;32mreturn\u001b[0m \u001b[0mres\u001b[0m\u001b[1;33m\u001b[0m\u001b[1;33m\u001b[0m\u001b[0m\n\u001b[0;32m      4\u001b[0m \u001b[1;33m\u001b[0m\u001b[0m\n\u001b[0;32m      5\u001b[0m \u001b[0mlist\u001b[0m \u001b[1;33m=\u001b[0m \u001b[1;33m[\u001b[0m\u001b[0mint\u001b[0m\u001b[1;33m(\u001b[0m\u001b[0mnum\u001b[0m\u001b[1;33m)\u001b[0m \u001b[1;32mfor\u001b[0m \u001b[0mnum\u001b[0m \u001b[1;32min\u001b[0m \u001b[0minput\u001b[0m\u001b[1;33m(\u001b[0m\u001b[1;34m\"Enter list of numbers: \"\u001b[0m\u001b[1;33m)\u001b[0m\u001b[1;33m.\u001b[0m\u001b[0msplit\u001b[0m\u001b[1;33m(\u001b[0m\u001b[1;33m)\u001b[0m\u001b[1;33m]\u001b[0m\u001b[1;33m\u001b[0m\u001b[1;33m\u001b[0m\u001b[0m\n",
      "\u001b[1;31mTypeError\u001b[0m: int() argument must be a string, a bytes-like object or a number, not 'map'"
     ]
    }
   ],
   "source": [
    "def listToString(list):\n",
    "    res = int(map(str, list))\n",
    "    return res\n",
    "\n",
    "list = [int(num) for num in input(\"Enter list of numbers: \").split()]\n",
    "print(list)\n",
    "print(listToString(list))"
   ]
  },
  {
   "cell_type": "markdown",
   "id": "b917898b",
   "metadata": {},
   "source": [
    "## "
   ]
  },
  {
   "cell_type": "code",
   "execution_count": 6,
   "id": "4d1c2154",
   "metadata": {},
   "outputs": [
    {
     "name": "stdout",
     "output_type": "stream",
     "text": [
      "[(1, 1, 1)]\n"
     ]
    }
   ],
   "source": [
    "from itertools import combinations\n",
    "  \n",
    "def rSubset(arr, r):\n",
    "  \n",
    "    # return list of all subsets of length r\n",
    "    # to deal with duplicate subsets use \n",
    "    # set(list(combinations(arr, r)))\n",
    "    return list(combinations(arr, r))\n",
    "  \n",
    "# Driver Function\n",
    "if __name__ == \"__main__\":\n",
    "    arr = [1,1,1]\n",
    "    r = 3\n",
    "    print (rSubset(arr, r))"
   ]
  },
  {
   "cell_type": "code",
   "execution_count": 1,
   "id": "ea47084b",
   "metadata": {},
   "outputs": [
    {
     "name": "stdout",
     "output_type": "stream",
     "text": [
      "1\n",
      "3 3\n",
      "1\n",
      "1\n",
      "1\n",
      "()\n",
      "(1,)\n",
      "(1,)\n",
      "(1,)\n",
      "(1, 1)\n",
      "(1, 1)\n",
      "(1, 1)\n",
      "(1, 1, 1)\n",
      "Yes\n"
     ]
    }
   ],
   "source": [
    "from itertools import combinations\n",
    "for _ in range(int(input())):\n",
    "    a=[int(x) for x in input().split()]\n",
    "    amnt=a[1]\n",
    "    note=a[0]\n",
    "    j=[]\n",
    "    for i in range(note):\n",
    "        j.append(int(input()))\n",
    "    for elems in [combination for i in range(note+1) for combination in combinations(j, i)]:\n",
    "        print(elems)\n",
    "        if sum(elems)==amnt:\n",
    "            print('Yes')\n",
    "            break\n",
    "    else:print('No')"
   ]
  },
  {
   "cell_type": "code",
   "execution_count": 8,
   "id": "cd66fdb7",
   "metadata": {},
   "outputs": [
    {
     "name": "stdout",
     "output_type": "stream",
     "text": [
      "1\n",
      "3 2\n",
      "1\n",
      "1\n",
      "1\n",
      "()\n",
      "(1,)\n",
      "(1,)\n",
      "(1,)\n",
      "(1, 1)\n",
      "Yes\n"
     ]
    }
   ],
   "source": [
    "from itertools import combinations\n",
    "for _ in range(int(input())):\n",
    "    a=[int(x) for x in input().split()]\n",
    "    amnt=a[1]\n",
    "    note=a[0]\n",
    "    j=[]\n",
    "    for i in range(note):\n",
    "        j.append(int(input()))\n",
    "    lst1 = [num for i in range(note+1) for num in combinations(j, i)]\n",
    "    for elems in lst1:\n",
    "        print(elems)\n",
    "        if sum(elems)==amnt:\n",
    "            print('Yes')\n",
    "            break\n",
    "    else:print('No')"
   ]
  },
  {
   "cell_type": "code",
   "execution_count": 13,
   "id": "1fdc4a13",
   "metadata": {},
   "outputs": [
    {
     "name": "stdout",
     "output_type": "stream",
     "text": [
      "1\n",
      "3 2\n",
      "1\n",
      "1\n",
      "1\n",
      "()\n",
      "(1,)\n",
      "(1,)\n",
      "(1,)\n",
      "(1, 1)\n",
      "Yes\n"
     ]
    }
   ],
   "source": [
    "from itertools import combinations\n",
    "\n",
    "t = int(input())\n",
    "for i in range(t):\n",
    "    lst = [int(j) for j in input().split()]\n",
    "    n = lst[0]\n",
    "    m = lst[1]\n",
    "    lst2 = []\n",
    "    for num in range(n):\n",
    "        lst2.append(int(input()))\n",
    "    lst3 = [num for i in range(n+1) for num in combinations(lst2, i)]\n",
    "    for num in lst3:\n",
    "        #Uncomment below line to see all combination\n",
    "        #print(num)\n",
    "        if sum(num)==m:\n",
    "            print('Yes')\n",
    "            break\n",
    "    else:print('No')\n",
    "\n"
   ]
  },
  {
   "cell_type": "code",
   "execution_count": 4,
   "id": "e1839e1b",
   "metadata": {},
   "outputs": [
    {
     "name": "stdout",
     "output_type": "stream",
     "text": [
      "enter the number of elements in the list: 3\n",
      "2\n",
      "1\n",
      "3\n",
      "Shortert element in the list is: 1\n"
     ]
    }
   ],
   "source": [
    "def bubble_sort(list1):\n",
    "    for i in range(0,len(list1)-1):\n",
    "        for j in range(len(list1)-1):\n",
    "            if(list1[j]>list1[j+1]):\n",
    "                temp = list1[j]\n",
    "                list1[j] = list1[j+1]\n",
    "                list1[j+1] = temp\n",
    "    return list1\n",
    "\n",
    "n = int(input(\"enter the number of elements in the list: \"))\n",
    "list= []\n",
    "for i in range(n):\n",
    "    N = int(input())\n",
    "    list.append(N)\n",
    "lst2=bubble_sort(list)\n",
    "print(f\"Shortert element in the list is: {lst2[0]}\")\n"
   ]
  },
  {
   "cell_type": "code",
   "execution_count": 5,
   "id": "0449d61b",
   "metadata": {},
   "outputs": [
    {
     "name": "stdout",
     "output_type": "stream",
     "text": [
      "enter the number of elements in the list: 1\n",
      "2\n",
      "The even sorted list:  [2]\n",
      "The odd sorted list:  []\n",
      "The combined sorted list is :  [2]\n",
      "The final list: [2]\n"
     ]
    }
   ],
   "source": [
    "def bubblesort(list1):\n",
    "    for i in range(0,len(list1)-1):\n",
    "        for j in range(len(list1)-1):\n",
    "            if(list1[j]>list1[j+1]):\n",
    "                temp = list1[j]\n",
    "                list1[j] = list1[j+1]\n",
    "                list1[j+1] = temp\n",
    "    return list1\n",
    "\n",
    "list = []\n",
    "n = int(input(\"enter the number of elements in the list: \"))\n",
    "for i in range(n):\n",
    "   N = int(input())\n",
    "   list.append(N)\n",
    "\n",
    "evenlist = []\n",
    "oddlist = []\n",
    "for i in range(len(list)):\n",
    "    if(list[i]%2 == 0):\n",
    "        evenlist.append(list[i])\n",
    "    else:\n",
    "        oddlist.append(list[i])\n",
    "a=bubblesort(evenlist)\n",
    "b=bubblesort(oddlist)\n",
    "print(\"The even sorted list: \",a)\n",
    "print(\"The odd sorted list: \",b)\n",
    "\n",
    "size1 = len(evenlist)\n",
    "size2 = len(oddlist)\n",
    "\n",
    "res = []\n",
    "i = 0\n",
    "j = 0\n",
    "\n",
    "while((i < size1) and (j < size2)):\n",
    "    if (evenlist[i] < oddlist[j]):\n",
    "        res.append(evenlist[i])\n",
    "        i += 1\n",
    "\n",
    "    else:\n",
    "        res.append(oddlist[j])\n",
    "        j += 1\n",
    "\n",
    "res = res + evenlist[i:] + oddlist[j:]\n",
    "\n",
    "print(\"The combined sorted list is : \",str(res))\n",
    "\n",
    "final_list = []\n",
    "for i in res:\n",
    "    if i not in final_list:\n",
    "        final_list.append(i)\n",
    "\n",
    "print(\"The final list:\",final_list)\n",
    "\n"
   ]
  },
  {
   "cell_type": "code",
   "execution_count": 5,
   "id": "33efc984",
   "metadata": {},
   "outputs": [
    {
     "name": "stdout",
     "output_type": "stream",
     "text": [
      "Largest element is: ['Dsadwda', 'adawqqq', 'as', 'dasdasda', 'xasda']\n"
     ]
    }
   ],
   "source": [
    "list1 = ['xasda', \"Dsadwda\", \"as\", \"adawqqq\", \"dasdasda\"]\n",
    "list1.sort()\n",
    "print(\"Largest element is:\", list1)"
   ]
  },
  {
   "cell_type": "code",
   "execution_count": 7,
   "id": "c6e23813",
   "metadata": {},
   "outputs": [
    {
     "name": "stdout",
     "output_type": "stream",
     "text": [
      "Enter string to list: x xy xyz xyza\n",
      "[1, 2, 3, 4]\n",
      "xyza\n"
     ]
    }
   ],
   "source": [
    "#2. Read a lists named StringList containing strings from the key board and perform the following tasks:\n",
    "#(a) Find the length of the words with largest length without using len() function.\n",
    "def Length(list1):\n",
    "    count = 0\n",
    "    list2=[]\n",
    "    for i in list1:\n",
    "        for j in i:\n",
    "            count+= 1\n",
    "        list2.append(count)\n",
    "        count=0\n",
    "    return list2\n",
    "\n",
    "\n",
    "list1=[num for num in input(\"Enter string to list: \").split()]\n",
    "print(Length(list1))\n",
    "N=Length(list1)\n",
    "print(list1[N.index(max(N))])"
   ]
  },
  {
   "cell_type": "code",
   "execution_count": null,
   "id": "26dda0b5",
   "metadata": {},
   "outputs": [],
   "source": []
  },
  {
   "cell_type": "code",
   "execution_count": 2,
   "id": "8ecdbd09",
   "metadata": {},
   "outputs": [
    {
     "name": "stdout",
     "output_type": "stream",
     "text": [
      "[2, 4, 6]\n"
     ]
    }
   ],
   "source": [
    "a=[1,2,3]\n",
    "lst=[num*2 for num in a]\n",
    "print(lst)"
   ]
  },
  {
   "cell_type": "code",
   "execution_count": 2,
   "id": "e62214f4",
   "metadata": {},
   "outputs": [
    {
     "name": "stdout",
     "output_type": "stream",
     "text": [
      "[1, 3, 5, 7]\n"
     ]
    }
   ],
   "source": [
    "a=[1,2,3,4,5,6,7,8]\n",
    "lst=[num for num in a if num%2!=0]\n",
    "print(lst)"
   ]
  },
  {
   "cell_type": "code",
   "execution_count": 2,
   "id": "0a0bebaa",
   "metadata": {},
   "outputs": [
    {
     "name": "stdout",
     "output_type": "stream",
     "text": [
      "b r\n"
     ]
    }
   ],
   "source": [
    "colors = [\"red\",\"green\",\"b r\",\"blue\"]\n",
    "print(colors[2])"
   ]
  },
  {
   "cell_type": "code",
   "execution_count": 3,
   "id": "c25bc00a",
   "metadata": {},
   "outputs": [
    {
     "name": "stdout",
     "output_type": "stream",
     "text": [
      "[10, 20, 30, 35, 50]\n"
     ]
    }
   ],
   "source": [
    "list=[10,[3.14,20,[30,'baz',2.78]],'foo']\n",
    "\n"
   ]
  },
  {
   "cell_type": "code",
   "execution_count": 2,
   "id": "7d2076dc",
   "metadata": {},
   "outputs": [
    {
     "name": "stdout",
     "output_type": "stream",
     "text": [
      "Enter list of string: and a b c d\n",
      "['and', 'a', 'b', 'c', 'd']\n"
     ]
    }
   ],
   "source": [
    "list = [string for string in input(\"Enter list of string: \").split()]\n",
    "print(list)"
   ]
  },
  {
   "cell_type": "code",
   "execution_count": 5,
   "id": "e126f257",
   "metadata": {},
   "outputs": [
    {
     "name": "stdout",
     "output_type": "stream",
     "text": [
      "Enter list of string: list = [string for string in input(\"Enter list of string: \").split()]\n"
     ]
    },
    {
     "ename": "AttributeError",
     "evalue": "'list' object has no attribute 'lower'",
     "output_type": "error",
     "traceback": [
      "\u001b[1;31m---------------------------------------------------------------------------\u001b[0m",
      "\u001b[1;31mAttributeError\u001b[0m                            Traceback (most recent call last)",
      "\u001b[1;32m<ipython-input-5-dfe71cbd5f37>\u001b[0m in \u001b[0;36m<module>\u001b[1;34m\u001b[0m\n\u001b[0;32m     13\u001b[0m \u001b[0mlist\u001b[0m \u001b[1;33m=\u001b[0m \u001b[1;33m[\u001b[0m\u001b[0mstring\u001b[0m \u001b[1;32mfor\u001b[0m \u001b[0mstring\u001b[0m \u001b[1;32min\u001b[0m \u001b[0minput\u001b[0m\u001b[1;33m(\u001b[0m\u001b[1;34m\"Enter list of string: \"\u001b[0m\u001b[1;33m)\u001b[0m\u001b[1;33m.\u001b[0m\u001b[0msplit\u001b[0m\u001b[1;33m(\u001b[0m\u001b[1;33m)\u001b[0m\u001b[1;33m]\u001b[0m\u001b[1;33m\u001b[0m\u001b[1;33m\u001b[0m\u001b[0m\n\u001b[0;32m     14\u001b[0m \u001b[0ms\u001b[0m \u001b[1;33m=\u001b[0m \u001b[0mlist\u001b[0m\u001b[1;33m\u001b[0m\u001b[1;33m\u001b[0m\u001b[0m\n\u001b[1;32m---> 15\u001b[1;33m \u001b[0mlengths\u001b[0m \u001b[1;33m=\u001b[0m \u001b[0mn_letter_dictionary\u001b[0m\u001b[1;33m(\u001b[0m\u001b[0ms\u001b[0m\u001b[1;33m)\u001b[0m\u001b[1;33m\u001b[0m\u001b[1;33m\u001b[0m\u001b[0m\n\u001b[0m\u001b[0;32m     16\u001b[0m \u001b[1;33m\u001b[0m\u001b[0m\n\u001b[0;32m     17\u001b[0m \u001b[1;32mfor\u001b[0m \u001b[0mkey\u001b[0m \u001b[1;32min\u001b[0m \u001b[0msorted\u001b[0m\u001b[1;33m(\u001b[0m\u001b[0mlengths\u001b[0m\u001b[1;33m.\u001b[0m\u001b[0mkeys\u001b[0m\u001b[1;33m(\u001b[0m\u001b[1;33m)\u001b[0m\u001b[1;33m)\u001b[0m\u001b[1;33m:\u001b[0m\u001b[1;33m\u001b[0m\u001b[1;33m\u001b[0m\u001b[0m\n",
      "\u001b[1;32m<ipython-input-5-dfe71cbd5f37>\u001b[0m in \u001b[0;36mn_letter_dictionary\u001b[1;34m(my_string)\u001b[0m\n\u001b[0;32m      2\u001b[0m \u001b[1;33m\u001b[0m\u001b[0m\n\u001b[0;32m      3\u001b[0m \u001b[1;32mdef\u001b[0m \u001b[0mn_letter_dictionary\u001b[0m\u001b[1;33m(\u001b[0m\u001b[0mmy_string\u001b[0m\u001b[1;33m)\u001b[0m\u001b[1;33m:\u001b[0m\u001b[1;33m\u001b[0m\u001b[1;33m\u001b[0m\u001b[0m\n\u001b[1;32m----> 4\u001b[1;33m     \u001b[0mwords\u001b[0m \u001b[1;33m=\u001b[0m \u001b[0mmy_string\u001b[0m\u001b[1;33m.\u001b[0m\u001b[0mlower\u001b[0m\u001b[1;33m(\u001b[0m\u001b[1;33m)\u001b[0m\u001b[1;33m.\u001b[0m\u001b[0msplit\u001b[0m\u001b[1;33m(\u001b[0m\u001b[1;33m)\u001b[0m\u001b[1;33m\u001b[0m\u001b[1;33m\u001b[0m\u001b[0m\n\u001b[0m\u001b[0;32m      5\u001b[0m     \u001b[0mlengths\u001b[0m \u001b[1;33m=\u001b[0m \u001b[0mdefaultdict\u001b[0m\u001b[1;33m(\u001b[0m\u001b[0mset\u001b[0m\u001b[1;33m)\u001b[0m\u001b[1;33m\u001b[0m\u001b[1;33m\u001b[0m\u001b[0m\n\u001b[0;32m      6\u001b[0m \u001b[1;33m\u001b[0m\u001b[0m\n",
      "\u001b[1;31mAttributeError\u001b[0m: 'list' object has no attribute 'lower'"
     ]
    }
   ],
   "source": [
    "from collections import defaultdict\n",
    "\n",
    "def n_letter_dictionary(my_string):\n",
    "    words = my_string.lower().split()\n",
    "    lengths = defaultdict(set)\n",
    "\n",
    "    for key in words:\n",
    "        if len(key) > 1:\n",
    "            lengths[len(key)].add(key)\n",
    "\n",
    "    return {key : sorted(value) for key, value in lengths.items()}\n",
    "\n",
    "list = [string for string in input(\"Enter list of string: \").split()]\n",
    "s = list\n",
    "lengths = n_letter_dictionary(s)\n",
    "\n",
    "for key in sorted(lengths.keys()):\n",
    "    print(key, lengths[key])"
   ]
  },
  {
   "cell_type": "code",
   "execution_count": 7,
   "id": "a08de83f",
   "metadata": {},
   "outputs": [
    {
     "name": "stdout",
     "output_type": "stream",
     "text": [
      "Enter string:'list' object has no attribute 'lower'\n",
      "vowels count i =  11\n",
      "space count =  5\n",
      "longest word in string =  attribute\n"
     ]
    }
   ],
   "source": [
    "string = input(\"Enter string:\")\n",
    "vowels = \"AEIOUaeiou\"\n",
    "vc=0\n",
    "sc=0\n",
    "\n",
    "for i in string:\n",
    "    if i in vowels:\n",
    "        vc = vc+1\n",
    "    elif i == ' ':\n",
    "        sc=sc+1\n",
    "\n",
    "str_list = string.split()\n",
    "lw = sorted(str_list, key=len)\n",
    "\n",
    "print(\"vowels count i = \",vc)\n",
    "print(\"space count = \",sc)\n",
    "print(\"longest word in string = \",lw[-1])"
   ]
  },
  {
   "cell_type": "code",
   "execution_count": 3,
   "id": "7ca54aa8",
   "metadata": {},
   "outputs": [
    {
     "name": "stdout",
     "output_type": "stream",
     "text": [
      "Enter stringhello how is your healt\n",
      "list of words forming string ['hello', 'how', 'is', 'your', 'healt']\n",
      "Dictionary of the given string: {'hello': 5, 'how': 3, 'is': 2, 'your': 4, 'healt': 5}\n"
     ]
    }
   ],
   "source": [
    "string = input(\"Enter string\")\n",
    "lst1 = string.split()\n",
    "print(\"list of words forming string\",lst1)\n",
    "dict1 = {}\n",
    "for i in lst1:\n",
    "    if i not in dict1:\n",
    "          dict1[i] = len(i)\n",
    "\n",
    "print(\"Dictionary of the given string:\",dict1)"
   ]
  },
  {
   "cell_type": "code",
   "execution_count": 3,
   "id": "f82ca25b",
   "metadata": {},
   "outputs": [
    {
     "ename": "TypeError",
     "evalue": "'reverse' is an invalid keyword argument for print()",
     "output_type": "error",
     "traceback": [
      "\u001b[1;31m---------------------------------------------------------------------------\u001b[0m",
      "\u001b[1;31mTypeError\u001b[0m                                 Traceback (most recent call last)",
      "\u001b[1;32m<ipython-input-3-6f46b46d2c01>\u001b[0m in \u001b[0;36m<module>\u001b[1;34m\u001b[0m\n\u001b[0;32m      1\u001b[0m \u001b[0mtup\u001b[0m \u001b[1;33m=\u001b[0m \u001b[1;33m(\u001b[0m\u001b[1;36m30\u001b[0m\u001b[1;33m,\u001b[0m\u001b[1;36m3\u001b[0m\u001b[1;33m,\u001b[0m\u001b[1;36m2\u001b[0m\u001b[1;33m,\u001b[0m\u001b[1;36m8\u001b[0m\u001b[1;33m)\u001b[0m\u001b[1;33m\u001b[0m\u001b[1;33m\u001b[0m\u001b[0m\n\u001b[1;32m----> 2\u001b[1;33m \u001b[0mprint\u001b[0m\u001b[1;33m(\u001b[0m\u001b[0msorted\u001b[0m\u001b[1;33m(\u001b[0m\u001b[0mtup\u001b[0m\u001b[1;33m)\u001b[0m\u001b[1;33m,\u001b[0m \u001b[0mreverse\u001b[0m \u001b[1;33m=\u001b[0m \u001b[1;32mTrue\u001b[0m\u001b[1;33m)\u001b[0m\u001b[1;33m\u001b[0m\u001b[1;33m\u001b[0m\u001b[0m\n\u001b[0m",
      "\u001b[1;31mTypeError\u001b[0m: 'reverse' is an invalid keyword argument for print()"
     ]
    }
   ],
   "source": [
    "tup = (30,3,2,8)\n",
    "print(sorted(tup), reverse = True)"
   ]
  },
  {
   "cell_type": "code",
   "execution_count": null,
   "id": "12032eca",
   "metadata": {},
   "outputs": [],
   "source": []
  }
 ],
 "metadata": {
  "kernelspec": {
   "display_name": "Python 3",
   "language": "python",
   "name": "python3"
  },
  "language_info": {
   "codemirror_mode": {
    "name": "ipython",
    "version": 3
   },
   "file_extension": ".py",
   "mimetype": "text/x-python",
   "name": "python",
   "nbconvert_exporter": "python",
   "pygments_lexer": "ipython3",
   "version": "3.8.8"
  }
 },
 "nbformat": 4,
 "nbformat_minor": 5
}
