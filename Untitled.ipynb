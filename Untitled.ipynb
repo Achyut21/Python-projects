{
 "cells": [
  {
   "cell_type": "code",
   "execution_count": 2,
   "id": "ebf5ac5a",
   "metadata": {},
   "outputs": [
    {
     "name": "stdout",
     "output_type": "stream",
     "text": [
      "[1, 10, 22, 15]\n"
     ]
    }
   ],
   "source": [
    "#Achyut Katiyar\n",
    "#AP20110010057\n",
    "#1.Write a Python script to remove repeated elements\n",
    "rep_ele = [1,10,15,22,15]\n",
    "print(list(set(rep_ele)))"
   ]
  },
  {
   "cell_type": "code",
   "execution_count": 6,
   "id": "c6241b27",
   "metadata": {},
   "outputs": [
    {
     "data": {
      "text/plain": [
       "[1, 15, 15, 31]"
      ]
     },
     "execution_count": 6,
     "metadata": {},
     "output_type": "execute_result"
    }
   ],
   "source": [
    "#Achyut Katiyar\n",
    "#AP20110010057\n",
    "#2.Write a python script to print the given list within specified range\n",
    "def oddprint(l):\n",
    "    return [num for num in l if num%2==0]\n",
    "\n",
    "oddprint([1,10,15,22,15])\n"
   ]
  },
  {
   "cell_type": "code",
   "execution_count": 2,
   "id": "8b744701",
   "metadata": {},
   "outputs": [
    {
     "name": "stdout",
     "output_type": "stream",
     "text": [
      "4\n"
     ]
    }
   ],
   "source": [
    "#Achyut Katiyar\n",
    "#AP20110010057\n",
    "#3.Write a python script to count the number of elements in a list within specified range\n",
    "def count(range_list, min, max):\n",
    "    return len(list(num for num in range_list if min <= num <= max))\n",
    " \n",
    "list1 = [1,10,15,22,15,23,44,23,222]\n",
    "sortlist=list(set(list1))\n",
    "print(count(sortlist, 10, 40))"
   ]
  },
  {
   "cell_type": "code",
   "execution_count": 10,
   "id": "8ce67160",
   "metadata": {},
   "outputs": [
    {
     "name": "stdout",
     "output_type": "stream",
     "text": [
      "Enter list of numbers: 12\n",
      "[12]\n",
      "12\n"
     ]
    }
   ],
   "source": [
    "#Achyut Katiyar\n",
    "#AP20110010057\n",
    "#4.ke a list as user input and print it as single integer.\n",
    "def listToString(list):\n",
    "    res = int(\"\".join(map(str, list)))\n",
    "    return res\n",
    "\n",
    "list = [int(num) for num in input(\"Enter list of numbers: \").split()]\n",
    "print(list)\n",
    "print(listToString(list))\n"
   ]
  },
  {
   "cell_type": "code",
   "execution_count": 4,
   "id": "1d1a97e1",
   "metadata": {},
   "outputs": [
    {
     "name": "stdout",
     "output_type": "stream",
     "text": [
      "Enter list of numbers: 0 1 2 3 4 5\n",
      "[1, 2, 3, 4, 5, 0]\n"
     ]
    }
   ],
   "source": [
    "#Achyut Katiyar\n",
    "#AP20110010057\n",
    "#5.Circular shift in list\n",
    "list=[int(num) for num in input(\"Enter list of numbers: \").split()]\n",
    "list.append(list.pop(0))\n",
    "print(list)"
   ]
  },
  {
   "cell_type": "code",
   "execution_count": 13,
   "id": "38cfacab",
   "metadata": {},
   "outputs": [
    {
     "name": "stdout",
     "output_type": "stream",
     "text": [
      "Enter list of numbers: 1 2 3 4 5\n",
      "[1, 2, 3, 4, 5]\n",
      "[1, 4, 2, 5, 3]\n",
      "1\n"
     ]
    }
   ],
   "source": [
    "#Achyut Katiyar\n",
    "#AP20110010057\n",
    "#6.Comparng randomly shuffled list with original list.\n",
    "import random\n",
    "import copy\n",
    "count=0\n",
    "def simCheck(list1,list2,n):\n",
    "    global count\n",
    "    for num in range (n):\n",
    "            if(list1[num]==list2[num]):\n",
    "                count+=1\n",
    "            \n",
    "    return count\n",
    "\n",
    "list1=[int(num) for num in input(\"Enter list of numbers: \").split()]\n",
    "list2=list1.copy()\n",
    "n=len(list1)\n",
    "random.shuffle(list1)\n",
    "print(list2)\n",
    "print(list1)\n",
    "print(simCheck(list1,list2,n))\n"
   ]
  },
  {
   "cell_type": "code",
   "execution_count": 3,
   "id": "968a9e5a",
   "metadata": {},
   "outputs": [
    {
     "name": "stdout",
     "output_type": "stream",
     "text": [
      "Enter the number: 13\n",
      "2\n",
      "3\n",
      "5\n",
      "7\n",
      "11\n",
      "13\n"
     ]
    }
   ],
   "source": [
    "#Achyut Katiyar\n",
    "#AP20110010057\n",
    "#7.To print all prime number till given Nth element.\n",
    "N=int(input(\"Enter the number: \"))\n",
    "\n",
    "for num in range(2,N+1):\n",
    "    if(N>1):\n",
    "        for i in range(2,num):\n",
    "            if(num%i==0):\n",
    "                break\n",
    "        else:\n",
    "            print(num)"
   ]
  },
  {
   "cell_type": "code",
   "execution_count": 18,
   "id": "93ac0e9a",
   "metadata": {},
   "outputs": [
    {
     "name": "stdout",
     "output_type": "stream",
     "text": [
      "Enter number of elements : 3\n",
      "12\n",
      "36\n",
      "16\n",
      "[12, 36, 16]\n",
      "LCM of list elements: 144\n"
     ]
    }
   ],
   "source": [
    "import math\n",
    "\n",
    "lst = []\n",
    " \n",
    "# number of elements as input\n",
    "n = int(input(\"Enter number of elements : \"))\n",
    " \n",
    "# iterating till the range\n",
    "for i in range(0, n):\n",
    "    ele = int(input())\n",
    "    lst.append(ele) # adding the element\n",
    "\n",
    "print(lst)\n",
    "def LCMofArray(lst):\n",
    "    lcm = lst[0]\n",
    "    for i in range(1,len(lst)):\n",
    "        lcm = lcm*lst[i]//math.gcd(lcm, lst[i])\n",
    "    return lcm\n",
    "    \n",
    "    \n",
    "print(\"LCM of list elements:\", LCMofArray(lst))"
   ]
  },
  {
   "cell_type": "markdown",
   "id": "71ead457",
   "metadata": {},
   "source": []
  }
 ],
 "metadata": {
  "kernelspec": {
   "display_name": "Python 3",
   "language": "python",
   "name": "python3"
  },
  "language_info": {
   "codemirror_mode": {
    "name": "ipython",
    "version": 3
   },
   "file_extension": ".py",
   "mimetype": "text/x-python",
   "name": "python",
   "nbconvert_exporter": "python",
   "pygments_lexer": "ipython3",
   "version": "3.8.8"
  }
 },
 "nbformat": 4,
 "nbformat_minor": 5
}
