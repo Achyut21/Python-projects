{
 "cells": [
  {
   "cell_type": "code",
   "execution_count": null,
   "id": "4ff95561",
   "metadata": {},
   "outputs": [],
   "source": [
    "#Roll Number - AP20110010057\n",
    "#Name - Achyut Katiyar"
   ]
  },
  {
   "cell_type": "code",
   "execution_count": 1,
   "id": "240840d0",
   "metadata": {},
   "outputs": [
    {
     "name": "stdout",
     "output_type": "stream",
     "text": [
      "1\n",
      "2\n",
      "3\n",
      "3 is the largest out of the entered numbers\n"
     ]
    }
   ],
   "source": [
    "#Write a Python script to find the maximum of three numbers. (Take input from user)\n",
    "#Method 1: Using if-else()\n",
    "a= input()\n",
    "b= input()\n",
    "c =input()\n",
    "if(a==b or b==c or c==a):                                      #To check if any two numbers are same.\n",
    "    print(\"Error: There are duplicate number present.\")   \n",
    "else:\n",
    "    if(a>b and a>c):\n",
    "        print(\"{0} is the largest out of the entered numbers\".format(a))\n",
    "    elif(b>a and b>c):\n",
    "        print(\"{0} is the largest out of the entered numbers\".format(b))\n",
    "    elif(c>a and c>b):\n",
    "        print(\"{0} is the largest out of the entered numbers\".format(c))\n",
    "    else:\n",
    "        print(\"Invalid entry!\")"
   ]
  },
  {
   "cell_type": "code",
   "execution_count": 2,
   "id": "41dd0981",
   "metadata": {},
   "outputs": [
    {
     "name": "stdout",
     "output_type": "stream",
     "text": [
      "1\n",
      "2\n",
      "6\n",
      "Max number out of them:  6\n"
     ]
    }
   ],
   "source": [
    "#Write a Python script to find the maximum of three numbers. (Take input from user)\n",
    "#Method 2: Using max()\n",
    "a= input()\n",
    "b= input()\n",
    "c =input()\n",
    "print(\"Max number out of them: \",max(a,b,c))"
   ]
  },
  {
   "cell_type": "code",
   "execution_count": 5,
   "id": "9725d633",
   "metadata": {},
   "outputs": [
    {
     "name": "stdout",
     "output_type": "stream",
     "text": [
      "Enter year to check if it's a leap: 2016\n",
      "The year entered 2016 is a leap year.\n"
     ]
    }
   ],
   "source": [
    "#Write a Python script that take year as input from user and print if it is a leap year or not.\n",
    "leap_year=int(input(\"Enter year to check if it's a leap: \"))\n",
    "if(leap_year%4)==0:\n",
    "    if(leap_year%100)==0:\n",
    "        if(leap_year%400)==0:\n",
    "            print(\"The year entered {0} is a leap year.\".format(leap_year))\n",
    "        else:\n",
    "            print(\"The year entered {0} is not a leap year.\".format(leap_year))\n",
    "    else:\n",
    "        print(\"The year entered {0} is a leap year.\".format(leap_year))\n",
    "else:\n",
    "    print(\"The year entered {0} is not a leap year.\".format(leap_year))"
   ]
  },
  {
   "cell_type": "code",
   "execution_count": 2,
   "id": "917b5760",
   "metadata": {},
   "outputs": [
    {
     "name": "stdout",
     "output_type": "stream",
     "text": [
      "Enter a week day: Tuesday\n",
      "Enter the gap you want between the weekdays:3\n",
      "The weekday is  friday\n"
     ]
    }
   ],
   "source": [
    "#Write a Python script that accept a day of the week (Sunday through Monday) as day and a number x.\n",
    "#Determine what day of the week it will be x days after the given day.\n",
    "week = {1:'Monday',2:'Tuesday',3:'Wednesday',4:'Thursday',5:'friday',6:'Saturday',7:'Sunday'}\n",
    "day=input(\"Enter a week day: \")\n",
    "if(day=='Monday'or day=='monday'):\n",
    "    n=1\n",
    "elif(day=='Tuesday'or day=='tuesday'):\n",
    "    n=2\n",
    "elif(day=='Wednesday'or day=='wednesday'):\n",
    "    n=3\n",
    "elif(day=='Thursday'or day=='thrusday'):\n",
    "    n=4\n",
    "elif(day=='Friday' or day=='friday'):\n",
    "    n=5\n",
    "elif(day=='Saturday'or day=='saturday'):\n",
    "    n=6\n",
    "elif(day=='Sunday'or day=='sunday'):\n",
    "    n=7\n",
    "else:\n",
    "  print(\"Invalid Entry!\")    \n",
    "x=int(input(\"Enter the gap you want between the weekdays:\"))\n",
    "if((n+x)>7):                                                   \n",
    "        print('Error!')\n",
    "else:\n",
    "    print(\"The weekday is \",week[n+x])\n"
   ]
  },
  {
   "cell_type": "code",
   "execution_count": 4,
   "id": "6e9b6969",
   "metadata": {},
   "outputs": [
    {
     "name": "stdout",
     "output_type": "stream",
     "text": [
      "Enter students name: Achyut Katiyar\n",
      "Enter Lab name: CSE106L\n",
      "How many days before have you registered for conference: 40\n",
      "Name - Achyut Katiyar\n",
      "Lab - CSE106L\n",
      "Registeration fees = 3750.0\n"
     ]
    }
   ],
   "source": [
    "#Write a Python script that takes the details such as whether the participant is a CSE106Lstudent, date of registration etc. \n",
    "# as the input and calculates the final registration fee.\n",
    "reg_fees=5000\n",
    "month=30\n",
    "lab='CSE106L'\n",
    "Sname=input('Enter students name: ')\n",
    "Slab=input('Enter Lab name: ')\n",
    "date_of_reg=int(input('How many days before have you registered for conference: '))\n",
    "if(Slab==lab and date_of_reg>month):\n",
    "    reg_fees-=reg_fees*(25/100)\n",
    "    print(\"Name - {0}\".format(Sname))\n",
    "    print(\"Lab - {0}\".format(Slab))\n",
    "    print(\"Registeration fees = {0}\".format(reg_fees))\n",
    "    \n",
    "elif(Slab==lab):\n",
    "    print(\"Name - {0}\".format(Sname))\n",
    "    print(\"Lab - {0}\".format(Slab))\n",
    "    reg_fees-=reg_fees*(10/100)\n",
    "    print(\"Registeration fees = {0}\".format(reg_fees))\n",
    "    \n",
    "elif(date_of_reg>month):\n",
    "    print(\"Name - {0}\".format(Sname))\n",
    "    print(\"Lab - {0}\".format(Slab))\n",
    "    reg_fees-=reg_fees*(15/100)\n",
    "    print(\"Registeration fees = {0}\".format(reg_fees))\n",
    "    \n",
    "else:\n",
    "    print(\"Registeration fees = {0}\".format(reg_fees))"
   ]
  },
  {
   "cell_type": "code",
   "execution_count": 1,
   "id": "ab7c0d41",
   "metadata": {},
   "outputs": [
    {
     "name": "stdout",
     "output_type": "stream",
     "text": [
      "Enter a week day: Monday\n",
      "Enter After how many days: 3\n",
      "Thursday\n"
     ]
    }
   ],
   "source": [
    "week = {1:'Monday',2:'Tuesday',3:'Wednesday',4:'Thursday',5:'friday',6:'Saturday',7:'Sunday'}\n",
    "d=input(\"Enter a week day: \")\n",
    "if(d=='Monday'):\n",
    "    n=1\n",
    "elif(d=='Tuesday'):\n",
    "    n=2\n",
    "elif(d=='Wednesday'):\n",
    "    n=3\n",
    "elif(d=='Thursday'):\n",
    "    n=4\n",
    "elif(d=='Friday'):\n",
    "    n=5\n",
    "elif(d=='Saturday'):\n",
    "    n=6\n",
    "elif(d=='Sunday'):\n",
    "    n=7    \n",
    "g=int(input(\"Enter After how many days: \"))\n",
    "print(week[n+g])"
   ]
  },
  {
   "cell_type": "code",
   "execution_count": null,
   "id": "27eca15d",
   "metadata": {},
   "outputs": [],
   "source": []
  }
 ],
 "metadata": {
  "kernelspec": {
   "display_name": "Python 3",
   "language": "python",
   "name": "python3"
  },
  "language_info": {
   "codemirror_mode": {
    "name": "ipython",
    "version": 3
   },
   "file_extension": ".py",
   "mimetype": "text/x-python",
   "name": "python",
   "nbconvert_exporter": "python",
   "pygments_lexer": "ipython3",
   "version": "3.8.8"
  }
 },
 "nbformat": 4,
 "nbformat_minor": 5
}
