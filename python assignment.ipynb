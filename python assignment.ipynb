{
 "cells": [
  {
   "cell_type": "code",
   "execution_count": 2,
   "id": "95ba037f",
   "metadata": {},
   "outputs": [
    {
     "name": "stdout",
     "output_type": "stream",
     "text": [
      "Input a number6\n",
      "[6, 12, 18, 24, 30, 36, 42, 48, 54, 60]\n"
     ]
    }
   ],
   "source": [
    "n=int(input(\"Input a number\"))\n",
    "ls=[n*i for i in range(1,11)]\n",
    "print(ls)"
   ]
  },
  {
   "cell_type": "code",
   "execution_count": 6,
   "id": "4f1588af",
   "metadata": {},
   "outputs": [
    {
     "name": "stdout",
     "output_type": "stream",
     "text": [
      "1 \n",
      "2\n",
      "3\n",
      "Max number out of them:  3\n"
     ]
    }
   ],
   "source": [
    "a= input()\n",
    "b= input()\n",
    "c =input()\n",
    "print(\"Max number out of them: \",max(a,b,c))"
   ]
  },
  {
   "cell_type": "code",
   "execution_count": 15,
   "id": "76ba10d4",
   "metadata": {},
   "outputs": [
    {
     "name": "stdout",
     "output_type": "stream",
     "text": [
      "2\n",
      "1\n",
      "2\n",
      "Error: There are duplicate number present.\n"
     ]
    }
   ],
   "source": [
    "a= input()\n",
    "b= input()\n",
    "c =input()\n",
    "if(a==b or b==c or c==a):\n",
    "    print(\"Error: There are duplicate number present.\")\n",
    "else:\n",
    "    if(a>b and a>c):\n",
    "        print(\"{0} is the largest out of the entered numbers\".format(a))\n",
    "    elif(b>a and b>c):\n",
    "        print(\"{0} is the largest out of the entered numbers\".format(b))\n",
    "    elif(c>a and c>b):\n",
    "        print(\"{0} is the largest out of the entered numbers\".format(c))\n",
    "    else:\n",
    "        print(\"Invalid entry!\")\n",
    "    "
   ]
  },
  {
   "cell_type": "code",
   "execution_count": 6,
   "id": "3ccb96cc",
   "metadata": {},
   "outputs": [
    {
     "name": "stdout",
     "output_type": "stream",
     "text": [
      "Enter number to check if it is a leap: 2021\n",
      "The year entered 2021 is not a leap year.\n"
     ]
    }
   ],
   "source": [
    "leap_year=int(input(\"Enter number to check if it is a leap: \"))\n",
    "if(leap_year%4)==0:\n",
    "    if(leap_year%100)==0:\n",
    "        if(leap_year%400)==0:\n",
    "            print(\"The year entered year {0} is a leap year.\".format(leap_year))\n",
    "        else:\n",
    "            print(\"The year entered {0} is not a leap year.\".format(leap_year))\n",
    "    else:\n",
    "        print(\"The year entered year {0} is a leap year.\".format(leap_year))\n",
    "else:\n",
    "    print(\"The year entered {0} is not a leap year.\".format(leap_year))"
   ]
  },
  {
   "cell_type": "code",
   "execution_count": 3,
   "id": "a7b14ec1",
   "metadata": {},
   "outputs": [
    {
     "name": "stdout",
     "output_type": "stream",
     "text": [
      "Enter a week day: Monday\n",
      "gap: 3\n",
      "Thursday\n"
     ]
    }
   ],
   "source": [
    "week = {1:'Monday',2:'Tuesday',3:'Wednesday',4:'Thursday',5:'friday',6:'Saturday',7:'Sunday'}\n",
    "day=input(\"Enter a week day: \")\n",
    "if(day=='Monday'):\n",
    "    n=1\n",
    "elif(day=='Tuesday'):\n",
    "    n=2\n",
    "elif(day=='Wednesday'):\n",
    "    n=3\n",
    "elif(day=='Thursday'):\n",
    "    n=4\n",
    "elif(day=='Friday'):\n",
    "    n=5\n",
    "elif(day=='Saturday'):\n",
    "    n=6\n",
    "elif(day=='Sunday'):\n",
    "    n=7\n",
    "else:\n",
    "  print(\"Invalid Entry!\")    \n",
    "x=int(input(\"Enter the gap u want between the weekdays:\"))\n",
    "if((n+x)>7):\n",
    "        print('Error!')\n",
    "else:\n",
    "    print(week[n+x])"
   ]
  },
  {
   "cell_type": "code",
   "execution_count": 4,
   "id": "b778f2b5",
   "metadata": {},
   "outputs": [
    {
     "name": "stdout",
     "output_type": "stream",
     "text": [
      "Enter the gap u want between the weekdays:3\n",
      " 1 for Monday \n",
      " 2 for Tuesday\n",
      " 3 for Wednesdya\n",
      " 4 for Thursday\n",
      " 5 for Friday \n",
      " 6 for Saturday \n",
      " 7 for Sunday4\n",
      "Sunday\n"
     ]
    }
   ],
   "source": [
    "week = {1:'Monday',2:'Tuesday',3:'Wednesday',4:'Thursday',5:'friday',6:'Saturday',7:'Sunday'}\n",
    "x=int(input(\"Enter the gap u want between the weekdays:\"))\n",
    "day=int(input(\" 1 for Monday \\n 2 for Tuesday\\n 3 for Wednesdya\\n 4 for Thursday\\n 5 for Friday \\n 6 for Saturday \\n 7 for Sunday\"))\n",
    "num=day+x\n",
    "if(day<8):\n",
    "    if(num>7):\n",
    "        print('Error!')\n",
    "    else:\n",
    "        print(week[num])\n",
    "    \n",
    "    \n",
    "\n"
   ]
  },
  {
   "cell_type": "code",
   "execution_count": 8,
   "id": "6a2ce2a7",
   "metadata": {},
   "outputs": [
    {
     "name": "stdout",
     "output_type": "stream",
     "text": [
      "Enter a week day: monday\n",
      "Enter the gap u want between the weekdays:3\n",
      "Thursday\n"
     ]
    }
   ],
   "source": [
    "week = {1:'Monday',2:'Tuesday',3:'Wednesday',4:'Thursday',5:'friday',6:'Saturday',7:'Sunday'}\n",
    "day=input(\"Enter a week day: \")\n",
    "if(day=='Monday'or day=='monday'):\n",
    "    n=1\n",
    "elif(day=='Tuesday'or day=='tuesday'):\n",
    "    n=2\n",
    "elif(day=='Wednesday'or day=='wednesday'):\n",
    "    n=3\n",
    "elif(day=='Thursday'or day=='thrusday'):\n",
    "    n=4\n",
    "elif(day=='Friday' or day=='friday'):\n",
    "    n=5\n",
    "elif(day=='Saturday'or day=='saturday'):\n",
    "    n=6\n",
    "elif(day=='Sunday'or day=='sunday'):\n",
    "    n=7\n",
    "else:\n",
    "  print(\"Invalid Entry!\")    \n",
    "x=int(input(\"Enter the gap u want between the weekdays:\"))\n",
    "if((n+x)>7):\n",
    "        print('Error!')\n",
    "else:\n",
    "    print(week[n+x])"
   ]
  },
  {
   "cell_type": "code",
   "execution_count": 8,
   "id": "68c60449",
   "metadata": {},
   "outputs": [
    {
     "name": "stdout",
     "output_type": "stream",
     "text": [
      "Enter students name: Achyut Katiyar\n",
      "Enter Lab name: cse102\n",
      "How many days before have you registered for conference: 20\n",
      "Registeration fees = 5000\n"
     ]
    }
   ],
   "source": [
    "reg_fees=5000\n",
    "month=30\n",
    "lab='CSE106L'\n",
    "Sname=input('Enter students name: ')\n",
    "Slab=input('Enter Lab name: ')\n",
    "date_of_reg=int(input('How many days before have you registered for conference: '))\n",
    "if(Slab==lab and date_of_reg>month):\n",
    "    reg_fees-=reg_fees*(25/100)\n",
    "    print(\"Name - {0}\\n\".format(Sname))\n",
    "    print(\"Lab - {0}\\n\".format(Slab))\n",
    "    print(\"Registeration fees = {0}\".format(reg_fees))\n",
    "elif(Slab==lab):\n",
    "    print(\"Name - {0}\\n\".format(Sname))\n",
    "    print(\"Lab - {0}\\n\".format(Slab))\n",
    "    reg_fees-=reg_fees*(10/100)\n",
    "    print(\"Registeration fees = {0}\".format(reg_fees))\n",
    "elif(date_of_reg>month):\n",
    "    print(\"Name - {0}\\n\".format(Sname))\n",
    "    print(\"Lab - {0}\\n\".format(Slab))\n",
    "    reg_fees-=reg_fees*(15/100)\n",
    "    print(\"Registeration fees = {0}\".format(reg_fees))\n",
    "else:\n",
    "    print(\"Registeration fees = {0}\".format(reg_fees))"
   ]
  },
  {
   "cell_type": "code",
   "execution_count": null,
   "id": "c00820bf",
   "metadata": {},
   "outputs": [],
   "source": []
  }
 ],
 "metadata": {
  "kernelspec": {
   "display_name": "Python 3",
   "language": "python",
   "name": "python3"
  },
  "language_info": {
   "codemirror_mode": {
    "name": "ipython",
    "version": 3
   },
   "file_extension": ".py",
   "mimetype": "text/x-python",
   "name": "python",
   "nbconvert_exporter": "python",
   "pygments_lexer": "ipython3",
   "version": "3.8.8"
  }
 },
 "nbformat": 4,
 "nbformat_minor": 5
}
