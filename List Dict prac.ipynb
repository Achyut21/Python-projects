{
 "cells": [
  {
   "cell_type": "code",
   "execution_count": 7,
   "id": "7adfeab2",
   "metadata": {},
   "outputs": [],
   "source": [
    "my_dict = {'L1':[1,2,3],'k1':20,'k2':'name'}"
   ]
  },
  {
   "cell_type": "code",
   "execution_count": 3,
   "id": "3a54d075",
   "metadata": {},
   "outputs": [
    {
     "data": {
      "text/plain": [
       "{'L1': {1, 'Hello', 'World'}, 'k1': 20, 'k2': 'name'}"
      ]
     },
     "execution_count": 3,
     "metadata": {},
     "output_type": "execute_result"
    }
   ],
   "source": [
    "my_dict"
   ]
  },
  {
   "cell_type": "code",
   "execution_count": 17,
   "id": "c7241092",
   "metadata": {},
   "outputs": [
    {
     "data": {
      "text/plain": [
       "'NAME'"
      ]
     },
     "execution_count": 17,
     "metadata": {},
     "output_type": "execute_result"
    }
   ],
   "source": [
    "my_dict['k2'].upper()"
   ]
  },
  {
   "cell_type": "code",
   "execution_count": 12,
   "id": "75236864",
   "metadata": {},
   "outputs": [
    {
     "data": {
      "text/plain": [
       "list"
      ]
     },
     "execution_count": 12,
     "metadata": {},
     "output_type": "execute_result"
    }
   ],
   "source": [
    "type(my_dict['L1'])"
   ]
  },
  {
   "cell_type": "code",
   "execution_count": null,
   "id": "d2246f7d",
   "metadata": {},
   "outputs": [],
   "source": []
  }
 ],
 "metadata": {
  "kernelspec": {
   "display_name": "Python 3",
   "language": "python",
   "name": "python3"
  },
  "language_info": {
   "codemirror_mode": {
    "name": "ipython",
    "version": 3
   },
   "file_extension": ".py",
   "mimetype": "text/x-python",
   "name": "python",
   "nbconvert_exporter": "python",
   "pygments_lexer": "ipython3",
   "version": "3.8.8"
  }
 },
 "nbformat": 4,
 "nbformat_minor": 5
}
