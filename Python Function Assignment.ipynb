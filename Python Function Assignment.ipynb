{
 "cells": [
  {
   "cell_type": "code",
   "execution_count": 3,
   "id": "95aa97b6",
   "metadata": {},
   "outputs": [
    {
     "name": "stdout",
     "output_type": "stream",
     "text": [
      "Enter final n point: 6\n",
      "Sum of all odd numbers =  9\n"
     ]
    }
   ],
   "source": [
    "def oddSum(n):\n",
    "    odd=[i for i in range(1,n) if i%2!=0 ]\n",
    "    total=sum(odd)\n",
    "    return total\n",
    "num=int(input(\"Enter final n point: \"))\n",
    "print(\"Sum of all odd numbers = \",oddSum(num))"
   ]
  },
  {
   "cell_type": "code",
   "execution_count": 1,
   "id": "c8e85801",
   "metadata": {},
   "outputs": [
    {
     "name": "stdout",
     "output_type": "stream",
     "text": [
      "Enter String or number: 1001\n",
      "Yes\n"
     ]
    }
   ],
   "source": [
    "def Palindrome(st):\n",
    "    return st == st[::-1]\n",
    "     \n",
    "st = input(\"Enter String or number: \")\n",
    "rev = Palindrome(st)\n",
    " \n",
    "if rev:\n",
    "    print(\"\") \n",
    "else:\n",
    "    print(\"No\")"
   ]
  },
  {
   "cell_type": "code",
   "execution_count": 9,
   "id": "58878765",
   "metadata": {},
   "outputs": [
    {
     "name": "stdout",
     "output_type": "stream",
     "text": [
      "enter the radius: 6\n",
      "area of circle is     113.14\n"
     ]
    }
   ],
   "source": [
    "def area(r):\n",
    "    Area=(22/7)*(r**2)\n",
    "    print(\"area of circle is {0:10.2f}\".format(Area))\n",
    "    \n",
    "r = int(input(\"enter the radius: \"))\n",
    "area(r)"
   ]
  },
  {
   "cell_type": "code",
   "execution_count": null,
   "id": "006a6721",
   "metadata": {},
   "outputs": [],
   "source": [
    "def perfect(n):\n",
    "    x = n\n",
    "    sum = 0\n",
    "    for i in range(1,n):\n",
    "        if(x%i==0):\n",
    "            sum = sum + i\n",
    "    if(sum == n ):\n",
    "        print(n,\" is a perfect number\")\n",
    "    else:\n",
    "        print(n,\" is not a perfect number\")\n",
    "\n",
    "n=int(input(\"enter the number: \"))\n",
    "perfect(n)"
   ]
  },
  {
   "cell_type": "code",
   "execution_count": 13,
   "id": "b73c2642",
   "metadata": {},
   "outputs": [
    {
     "name": "stdout",
     "output_type": "stream",
     "text": [
      "enter the number: 7\n",
      "7 * 1 = 7\n",
      "7 * 2 = 14\n",
      "7 * 3 = 21\n",
      "7 * 4 = 28\n",
      "7 * 5 = 35\n",
      "7 * 6 = 42\n",
      "7 * 7 = 49\n",
      "7 * 8 = 56\n",
      "7 * 9 = 63\n",
      "7 * 10 = 70\n"
     ]
    }
   ],
   "source": [
    "def table(n):\n",
    "    for i in range(1,11):\n",
    "        num=n*i\n",
    "        print(n,\"*\",i,\"=\",num)\n",
    "\n",
    "n=int(input(\"enter the number: \"))\n",
    "table(n)"
   ]
  },
  {
   "cell_type": "code",
   "execution_count": null,
   "id": "cf65c48a",
   "metadata": {},
   "outputs": [],
   "source": [
    "def table():\n",
    "    j=0\n",
    "    i=0\n",
    "    for i in range(1,11):\n",
    "        print(\"\\nTable of: \",i)\n",
    "        for j in range(1,11): \n",
    "            print(i,\"x\",j,'=',i*j)\n",
    "    \n",
    "table()"
   ]
  },
  {
   "cell_type": "code",
   "execution_count": null,
   "id": "187aae3c",
   "metadata": {},
   "outputs": [],
   "source": []
  },
  {
   "cell_type": "code",
   "execution_count": null,
   "id": "e06673c2",
   "metadata": {},
   "outputs": [],
   "source": []
  }
 ],
 "metadata": {
  "kernelspec": {
   "display_name": "Python 3",
   "language": "python",
   "name": "python3"
  },
  "language_info": {
   "codemirror_mode": {
    "name": "ipython",
    "version": 3
   },
   "file_extension": ".py",
   "mimetype": "text/x-python",
   "name": "python",
   "nbconvert_exporter": "python",
   "pygments_lexer": "ipython3",
   "version": "3.8.8"
  }
 },
 "nbformat": 4,
 "nbformat_minor": 5
}
